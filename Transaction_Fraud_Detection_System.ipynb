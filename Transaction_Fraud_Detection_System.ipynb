{
  "cells": [
    {
      "cell_type": "markdown",
      "metadata": {
        "id": "view-in-github",
        "colab_type": "text"
      },
      "source": [
        "<a href=\"https://colab.research.google.com/github/nour-ezzehi/-Transaction-Fraud-Detection-System/blob/main/Transaction_Fraud_Detection_System.ipynb\" target=\"_parent\"><img src=\"https://colab.research.google.com/assets/colab-badge.svg\" alt=\"Open In Colab\"/></a>"
      ]
    },
    {
      "cell_type": "code",
      "execution_count": 42,
      "metadata": {
        "id": "kES_rD67rrG6",
        "colab": {
          "base_uri": "https://localhost:8080/"
        },
        "outputId": "75469330-b4cf-4ba2-a00c-97dc256f67e4"
      },
      "outputs": [
        {
          "output_type": "stream",
          "name": "stdout",
          "text": [
            "Requirement already satisfied: Faker in /usr/local/lib/python3.11/dist-packages (37.1.0)\n",
            "Requirement already satisfied: tzdata in /usr/local/lib/python3.11/dist-packages (from Faker) (2025.2)\n",
            "              precision    recall  f1-score   support\n",
            "\n",
            "           0       0.97      0.97      0.97       196\n",
            "           1       0.97      0.97      0.97       187\n",
            "\n",
            "    accuracy                           0.97       383\n",
            "   macro avg       0.97      0.97      0.97       383\n",
            "weighted avg       0.97      0.97      0.97       383\n",
            "\n",
            "Precision-Recall AUC: 0.9980956244856721\n"
          ]
        }
      ],
      "source": [
        "%pip install Faker\n",
        "import pandas as pd\n",
        "import numpy as np\n",
        "from faker import Faker\n",
        "import random\n",
        "from datetime import datetime, timedelta\n",
        "from sklearn.model_selection import train_test_split\n",
        "from sklearn.preprocessing import StandardScaler\n",
        "from imblearn.over_sampling import SMOTE\n",
        "import xgboost as xgb\n",
        "from sklearn.metrics import classification_report\n",
        "\n",
        "fake = Faker()\n",
        "random.seed(42)\n",
        "\n",
        "n_transactions = 1000\n",
        "user_ids = [fake.uuid4() for _ in range(n_transactions)]\n",
        "timestamps = [fake.date_time_this_year() for _ in range(n_transactions)]\n",
        "merchants = [fake.company() for _ in range(n_transactions)]\n",
        "locations = [fake.country() for _ in range(n_transactions)]\n",
        "amounts = [round(random.uniform(5.0, 1000.0), 2) for _ in range(n_transactions)]\n",
        "\n",
        "fraudulent = [1 if random.random() < 0.05 else 0 for _ in range(n_transactions)]\n",
        "\n",
        "data = {\n",
        "    'user_id': user_ids,\n",
        "    'timestamp': timestamps,\n",
        "    'merchant': merchants,\n",
        "    'location': locations,\n",
        "    'amount': amounts,\n",
        "    'fraudulent': fraudulent\n",
        "}\n",
        "df = pd.DataFrame(data)\n",
        "\n",
        "df['timestamp'] = pd.to_datetime(df['timestamp'])\n",
        "\n",
        "df['transaction_velocity'] = df.groupby('user_id')['timestamp'].diff().fillna(pd.Timedelta(seconds=0))\n",
        "\n",
        "df['transaction_velocity'] = df['transaction_velocity'].dt.total_seconds()\n",
        "\n",
        "df['geolocation_inconsistency'] = df.groupby('user_id')['location'].shift() != df['location']\n",
        "df['geolocation_inconsistency'] = df['geolocation_inconsistency'].fillna(False).astype(int)\n",
        "\n",
        "df = df.drop(columns=['user_id', 'merchant', 'timestamp'])\n",
        "\n",
        "X = df.drop(columns=['fraudulent'])\n",
        "y = df['fraudulent']\n",
        "\n",
        "X = pd.get_dummies(X, columns=['location'])\n",
        "\n",
        "X.fillna(0, inplace=True)\n",
        "\n",
        "from imblearn.over_sampling import SMOTE\n",
        "smote = SMOTE(sampling_strategy='minority')\n",
        "X_res, y_res = smote.fit_resample(X, y)\n",
        "\n",
        "from sklearn.model_selection import train_test_split\n",
        "X_train, X_test, y_train, y_test = train_test_split(X_res, y_res, test_size=0.2, random_state=42)\n",
        "\n",
        "from sklearn.preprocessing import StandardScaler\n",
        "scaler = StandardScaler()\n",
        "X_train_scaled = scaler.fit_transform(X_train)\n",
        "X_test_scaled = scaler.transform(X_test)\n",
        "\n",
        "import xgboost as xgb\n",
        "model = xgb.XGBClassifier(eval_metric=\"mlogloss\", use_label_encoder=False)\n",
        "model.fit(X_train_scaled, y_train)\n",
        "\n",
        "from sklearn.metrics import classification_report\n",
        "y_pred = model.predict(X_test_scaled)\n",
        "\n",
        "print(classification_report(y_test, y_pred))\n",
        "\n",
        "from sklearn.metrics import precision_recall_curve, auc\n",
        "precision, recall, _ = precision_recall_curve(y_test, model.predict_proba(X_test_scaled)[:, 1])\n",
        "pr_auc = auc(recall, precision)\n",
        "print(f\"Precision-Recall AUC: {pr_auc}\")\n",
        "model.save_model('fraud_detection_model.json')\n",
        "np.save('scaler_mean.npy', scaler.mean_)\n",
        "np.save('scaler_scale.npy', scaler.scale_)\n"
      ]
    },
    {
      "cell_type": "code",
      "source": [
        "%pip install Fastapi uvicorn"
      ],
      "metadata": {
        "colab": {
          "base_uri": "https://localhost:8080/"
        },
        "id": "GUzVsGQ0R6di",
        "outputId": "6cfabd77-ce1c-4e68-d416-57b7db2b2fe1"
      },
      "execution_count": 40,
      "outputs": [
        {
          "output_type": "stream",
          "name": "stdout",
          "text": [
            "Requirement already satisfied: Fastapi in /usr/local/lib/python3.11/dist-packages (0.115.12)\n",
            "Collecting uvicorn\n",
            "  Downloading uvicorn-0.34.2-py3-none-any.whl.metadata (6.5 kB)\n",
            "Requirement already satisfied: starlette<0.47.0,>=0.40.0 in /usr/local/lib/python3.11/dist-packages (from Fastapi) (0.46.2)\n",
            "Requirement already satisfied: pydantic!=1.8,!=1.8.1,!=2.0.0,!=2.0.1,!=2.1.0,<3.0.0,>=1.7.4 in /usr/local/lib/python3.11/dist-packages (from Fastapi) (2.11.3)\n",
            "Requirement already satisfied: typing-extensions>=4.8.0 in /usr/local/lib/python3.11/dist-packages (from Fastapi) (4.13.2)\n",
            "Requirement already satisfied: click>=7.0 in /usr/local/lib/python3.11/dist-packages (from uvicorn) (8.1.8)\n",
            "Requirement already satisfied: h11>=0.8 in /usr/local/lib/python3.11/dist-packages (from uvicorn) (0.14.0)\n",
            "Requirement already satisfied: annotated-types>=0.6.0 in /usr/local/lib/python3.11/dist-packages (from pydantic!=1.8,!=1.8.1,!=2.0.0,!=2.0.1,!=2.1.0,<3.0.0,>=1.7.4->Fastapi) (0.7.0)\n",
            "Requirement already satisfied: pydantic-core==2.33.1 in /usr/local/lib/python3.11/dist-packages (from pydantic!=1.8,!=1.8.1,!=2.0.0,!=2.0.1,!=2.1.0,<3.0.0,>=1.7.4->Fastapi) (2.33.1)\n",
            "Requirement already satisfied: typing-inspection>=0.4.0 in /usr/local/lib/python3.11/dist-packages (from pydantic!=1.8,!=1.8.1,!=2.0.0,!=2.0.1,!=2.1.0,<3.0.0,>=1.7.4->Fastapi) (0.4.0)\n",
            "Requirement already satisfied: anyio<5,>=3.6.2 in /usr/local/lib/python3.11/dist-packages (from starlette<0.47.0,>=0.40.0->Fastapi) (4.9.0)\n",
            "Requirement already satisfied: idna>=2.8 in /usr/local/lib/python3.11/dist-packages (from anyio<5,>=3.6.2->starlette<0.47.0,>=0.40.0->Fastapi) (3.10)\n",
            "Requirement already satisfied: sniffio>=1.1 in /usr/local/lib/python3.11/dist-packages (from anyio<5,>=3.6.2->starlette<0.47.0,>=0.40.0->Fastapi) (1.3.1)\n",
            "Downloading uvicorn-0.34.2-py3-none-any.whl (62 kB)\n",
            "\u001b[2K   \u001b[90m━━━━━━━━━━━━━━━━━━━━━━━━━━━━━━━━━━━━━━━━\u001b[0m \u001b[32m62.5/62.5 kB\u001b[0m \u001b[31m5.6 MB/s\u001b[0m eta \u001b[36m0:00:00\u001b[0m\n",
            "\u001b[?25hInstalling collected packages: uvicorn\n",
            "Successfully installed uvicorn-0.34.2\n"
          ]
        }
      ]
    },
    {
      "cell_type": "code",
      "execution_count": 43,
      "metadata": {
        "id": "z4ahpCr92gEL"
      },
      "outputs": [],
      "source": [
        "from fastapi import FastAPI, HTTPException\n",
        "from pydantic import BaseModel\n",
        "import numpy as np\n",
        "import pandas as pd\n",
        "from sklearn.preprocessing import StandardScaler\n",
        "import xgboost as xgb\n",
        "\n",
        "model = xgb.XGBClassifier(eval_metric=\"mlogloss\", use_label_encoder=False)\n",
        "model.load_model('fraud_detection_model.json')\n",
        "\n",
        "scaler = StandardScaler()\n",
        "scaler.mean_ = np.load('scaler_mean.npy')\n",
        "scaler.scale_ = np.load('scaler_scale.npy')\n",
        "\n",
        "app = FastAPI()\n",
        "\n",
        "class Transaction(BaseModel):\n",
        "    amount: float\n",
        "    transaction_velocity: float\n",
        "    geolocation_inconsistency: int\n",
        "    location: str\n",
        "\n",
        "@app.post(\"/predict/\")\n",
        "async def predict(transaction: Transaction):\n",
        "    input_data = pd.DataFrame([{\n",
        "        'amount': transaction.amount,\n",
        "        'transaction_velocity': transaction.transaction_velocity,\n",
        "        'geolocation_inconsistency': transaction.geolocation_inconsistency,\n",
        "        'location': transaction.location,\n",
        "    }])\n",
        "\n",
        "    input_data = pd.get_dummies(input_data, columns=['location'])\n",
        "\n",
        "    expected_columns = ['amount', 'transaction_velocity', 'geolocation_inconsistency'] + list(scaler.get_feature_names_out(input_data.columns))\n",
        "    for col in expected_columns:\n",
        "        if col not in input_data.columns:\n",
        "            input_data[col] = 0\n",
        "    input_scaled = scaler.transform(input_data)\n",
        "\n",
        "    prediction = model.predict(input_scaled)\n",
        "\n",
        "    if prediction[0] == 1:\n",
        "        return {\"prediction\": \"fraudulent\"}\n",
        "    else:\n",
        "        return {\"prediction\": \"non-fraudulent\"}"
      ]
    }
  ],
  "metadata": {
    "accelerator": "GPU",
    "colab": {
      "provenance": [],
      "include_colab_link": true
    },
    "kernelspec": {
      "display_name": "Python 3",
      "language": "python",
      "name": "python3"
    },
    "language_info": {
      "codemirror_mode": {
        "name": "ipython",
        "version": 3
      },
      "file_extension": ".py",
      "mimetype": "text/x-python",
      "name": "python",
      "nbconvert_exporter": "python",
      "pygments_lexer": "ipython3",
      "version": "3.8.8"
    }
  },
  "nbformat": 4,
  "nbformat_minor": 0
}